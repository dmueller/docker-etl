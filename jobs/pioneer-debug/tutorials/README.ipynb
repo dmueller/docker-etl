{
 "cells": [
  {
   "cell_type": "markdown",
   "metadata": {},
   "source": [
    "# Getting Started with Pioneer\n",
    "\n",
    "This notebook is intended to get you familiar with the Pioneer Analysis environment with best practices for querying and saving datasets. The notebook environment is secured, so only **you** will have access to this particular notebook. You can, however, export the notebook. We will cover the basics of the `bq` command-line tool, working with BigQuery within the notebook environment, and how to share your work with other people on your team.\n",
    "\n",
    "Note that Notebook instances do *not* have access to the wider internet."
   ]
  },
  {
   "cell_type": "code",
   "execution_count": 1,
   "metadata": {},
   "outputs": [
    {
     "name": "stdout",
     "output_type": "stream",
     "text": [
      "PING mozilla.org (63.245.208.195) 56(84) bytes of data.\n"
     ]
    }
   ],
   "source": [
    "! timeout 10 ping mozilla.org"
   ]
  },
  {
   "cell_type": "markdown",
   "metadata": {},
   "source": [
    "## `bq` basics and schemas\n",
    "\n",
    "You will not have access to the standard BigQuery console for querying data. To navigate the BigQuery project, the `bq` command-line tool will be your primary interface. In Jupyter, the bang prefix (i.e. `!`) will run a command in the default shell. Run `bq` or `bq --help` to get a list of available commands or reference [Using the bq command-line tool](https://cloud.google.com/bigquery/docs/bq-command-line-tool) for more details.\n",
    "\n",
    "Show details about the current project."
   ]
  },
  {
   "cell_type": "code",
   "execution_count": 2,
   "metadata": {},
   "outputs": [
    {
     "name": "stdout",
     "output_type": "stream",
     "text": [
      "Project moz-fx-data-pion-nonprod-b3c9\n",
      "\n",
      "  friendlyName   \n",
      " --------------- \n",
      "  pioneer-debug  \n",
      "\n"
     ]
    }
   ],
   "source": [
    "! bq show"
   ]
  },
  {
   "cell_type": "markdown",
   "metadata": {},
   "source": [
    "List the available datasets in this project. The study dataset corresponds to the namespace defined in [`mozilla/mozilla-pipeline-schemas`](https://github.com/mozilla-services/mozilla-pipeline-schemas/tree/generated-schemas/schemas). This contains read-only views of pings that have been ingested during the study. The `analysis` dataset is for storing and sharing tables derived from study pings."
   ]
  },
  {
   "cell_type": "code",
   "execution_count": 3,
   "metadata": {},
   "outputs": [
    {
     "name": "stdout",
     "output_type": "stream",
     "text": [
      "    datasetId    \n",
      " --------------- \n",
      "  analysis       \n",
      "  pioneer_debug  \n"
     ]
    }
   ],
   "source": [
    "! bq ls"
   ]
  },
  {
   "cell_type": "code",
   "execution_count": 4,
   "metadata": {},
   "outputs": [
    {
     "name": "stdout",
     "output_type": "stream",
     "text": [
      "     tableId      Type                   Labels                   Time Partitioning   Clustered Fields  \n",
      " --------------- ------ ---------------------------------------- ------------------- ------------------ \n",
      "  debug_v1        VIEW   source_dataset_id:pioneer_debug_stable                                         \n",
      "                         schemas_build_id:202006140144_d5ead7a                                          \n",
      "  debug_v1_live   VIEW   source_dataset_id:pioneer_debug_live                                           \n",
      "                         schemas_build_id:202006140144_d5ead7a                                          \n",
      "  errors          VIEW                                                                                  \n"
     ]
    }
   ],
   "source": [
    "! bq ls pioneer_debug"
   ]
  },
  {
   "cell_type": "markdown",
   "metadata": {},
   "source": [
    "The study table contains partitions with full days of deduplicated data. These are mapped directly from `mozilla/mozilla-pipeline-schemas`, taking on the form `{document_type}_v{document_version}`. The `{table_id}_live` table contains up-to-date pings ingested from the last 5-10 minutes with limited retention. Finally, the errors table contains pings that have been rejected due to invalid schemas.\n",
    "\n",
    "To view the schema for a table, use the `bq show` command."
   ]
  },
  {
   "cell_type": "code",
   "execution_count": 5,
   "metadata": {},
   "outputs": [
    {
     "name": "stdout",
     "output_type": "stream",
     "text": [
      "Table moz-fx-data-pion-nonprod-b3c9:pioneer_debug.debug_v1\n",
      "\n",
      "   Last modified                   Schema                   Type   Expiration                   Labels                  \n",
      " ----------------- --------------------------------------- ------ ------------ ---------------------------------------- \n",
      "  16 Jun 19:21:41   |- additional_properties: string        VIEW                source_dataset_id:pioneer_debug_stable  \n",
      "                    |- datetime: timestamp                                      schemas_build_id:202006140144_d5ead7a   \n",
      "                    |- document_id: string                                                                              \n",
      "                    +- metadata: record                                                                                 \n",
      "                    |  +- geo: record                                                                                   \n",
      "                    |  |  |- city: string                                                                               \n",
      "                    |  |  |- country: string                                                                            \n",
      "                    |  |  |- db_version: string                                                                         \n",
      "                    |  |  |- subdivision1: string                                                                       \n",
      "                    |  |  |- subdivision2: string                                                                       \n",
      "                    |  +- header: record                                                                                \n",
      "                    |  |  |- date: string                                                                               \n",
      "                    |  |  |- dnt: string                                                                                \n",
      "                    |  |  |- x_debug_id: string                                                                         \n",
      "                    |  |  |- x_pingsender_version: string                                                               \n",
      "                    |  +- user_agent: record                                                                            \n",
      "                    |  |  |- browser: string                                                                            \n",
      "                    |  |  |- os: string                                                                                 \n",
      "                    |  |  |- version: string                                                                            \n",
      "                    |  +- isp: record                                                                                   \n",
      "                    |  |  |- db_version: string                                                                         \n",
      "                    |  |  |- name: string                                                                               \n",
      "                    |  |  |- organization: string                                                                       \n",
      "                    |- normalized_app_name: string                                                                      \n",
      "                    |- normalized_channel: string                                                                       \n",
      "                    |- normalized_country_code: string                                                                  \n",
      "                    |- normalized_os: string                                                                            \n",
      "                    |- normalized_os_version: string                                                                    \n",
      "                    |- sample_id: integer                                                                               \n",
      "                    |- submission_timestamp: timestamp                                                                  \n",
      "                    |- pioneer_id: string                                                                               \n",
      "                    |- study_name: string                                                                               \n",
      "\n"
     ]
    }
   ],
   "source": [
    "! bq show pioneer_debug.debug_v1"
   ]
  },
  {
   "cell_type": "markdown",
   "metadata": {},
   "source": [
    "## Querying Study Tables and Destination Tables\n",
    "The BigQuery tables available in the study dataset are views on [Mozilla's Data Platform standard BigQuery table layout](https://docs.telemetry.mozilla.org/cookbooks/bigquery/querying.html#table-layout-and-naming). These will be the primary source for many analyses.\n",
    "\n",
    "The study tables are _historical ping tables_ that are populated once a day. They never contain partial days of data and are deduplicated by `document_id`. These are partitioned by `submission_timestamp` and require the use of a partition filter (i.e. `WHERE` clause on `submission_timestamp`) to query. The _live ping tables_ have the same structure, but slightly different semantics in terms of availability.\n",
    "\n",
    "To query in the notebook, use [the `%%bigquery` magic](https://googleapis.dev/python/bigquery/latest/magics.html). "
   ]
  },
  {
   "cell_type": "code",
   "execution_count": 6,
   "metadata": {},
   "outputs": [
    {
     "data": {
      "text/html": [
       "<div>\n",
       "<style scoped>\n",
       "    .dataframe tbody tr th:only-of-type {\n",
       "        vertical-align: middle;\n",
       "    }\n",
       "\n",
       "    .dataframe tbody tr th {\n",
       "        vertical-align: top;\n",
       "    }\n",
       "\n",
       "    .dataframe thead th {\n",
       "        text-align: right;\n",
       "    }\n",
       "</style>\n",
       "<table border=\"1\" class=\"dataframe\">\n",
       "  <thead>\n",
       "    <tr style=\"text-align: right;\">\n",
       "      <th></th>\n",
       "      <th>submission_timestamp</th>\n",
       "      <th>study_name</th>\n",
       "      <th>document_id</th>\n",
       "    </tr>\n",
       "  </thead>\n",
       "  <tbody>\n",
       "    <tr>\n",
       "      <th>0</th>\n",
       "      <td>2020-06-01 07:33:25.110699+00:00</td>\n",
       "      <td>pioneer-v2-example</td>\n",
       "      <td>f4b4ff12-357f-1348-a5da-77f150207a71</td>\n",
       "    </tr>\n",
       "    <tr>\n",
       "      <th>1</th>\n",
       "      <td>2020-06-01 20:01:31.908587+00:00</td>\n",
       "      <td>pioneer-v2-example</td>\n",
       "      <td>937814bc-6efd-4ae9-974a-95fc386f8766</td>\n",
       "    </tr>\n",
       "    <tr>\n",
       "      <th>2</th>\n",
       "      <td>2020-06-01 20:04:32.444225+00:00</td>\n",
       "      <td>pioneer-v2-example</td>\n",
       "      <td>517b53cc-e11e-cf41-8bde-c4fa8d2dbde5</td>\n",
       "    </tr>\n",
       "    <tr>\n",
       "      <th>3</th>\n",
       "      <td>2020-06-01 15:40:01.567397+00:00</td>\n",
       "      <td>pioneer-v2-example</td>\n",
       "      <td>2299ce62-1a9a-e443-b62e-f18f066f1740</td>\n",
       "    </tr>\n",
       "    <tr>\n",
       "      <th>4</th>\n",
       "      <td>2020-06-01 20:01:31.916964+00:00</td>\n",
       "      <td>pioneer-v2-example</td>\n",
       "      <td>08cfb78b-a704-44ea-afa1-dc861ee6e916</td>\n",
       "    </tr>\n",
       "  </tbody>\n",
       "</table>\n",
       "</div>"
      ],
      "text/plain": [
       "              submission_timestamp          study_name  \\\n",
       "0 2020-06-01 07:33:25.110699+00:00  pioneer-v2-example   \n",
       "1 2020-06-01 20:01:31.908587+00:00  pioneer-v2-example   \n",
       "2 2020-06-01 20:04:32.444225+00:00  pioneer-v2-example   \n",
       "3 2020-06-01 15:40:01.567397+00:00  pioneer-v2-example   \n",
       "4 2020-06-01 20:01:31.916964+00:00  pioneer-v2-example   \n",
       "\n",
       "                            document_id  \n",
       "0  f4b4ff12-357f-1348-a5da-77f150207a71  \n",
       "1  937814bc-6efd-4ae9-974a-95fc386f8766  \n",
       "2  517b53cc-e11e-cf41-8bde-c4fa8d2dbde5  \n",
       "3  2299ce62-1a9a-e443-b62e-f18f066f1740  \n",
       "4  08cfb78b-a704-44ea-afa1-dc861ee6e916  "
      ]
     },
     "execution_count": 6,
     "metadata": {},
     "output_type": "execute_result"
    }
   ],
   "source": [
    "%%bigquery\n",
    "SELECT \n",
    "    submission_timestamp, \n",
    "    study_name, \n",
    "    document_id\n",
    "FROM\n",
    "    pioneer_debug.debug_v1\n",
    "WHERE\n",
    "    date(submission_timestamp) > date_sub(current_date, interval 30 day)\n",
    "LIMIT 5"
   ]
  },
  {
   "cell_type": "markdown",
   "metadata": {},
   "source": [
    "Queries can be stored directly into a destination table in the analysis dataset."
   ]
  },
  {
   "cell_type": "code",
   "execution_count": 7,
   "metadata": {},
   "outputs": [
    {
     "data": {
      "text/html": [
       "<div>\n",
       "<style scoped>\n",
       "    .dataframe tbody tr th:only-of-type {\n",
       "        vertical-align: middle;\n",
       "    }\n",
       "\n",
       "    .dataframe tbody tr th {\n",
       "        vertical-align: top;\n",
       "    }\n",
       "\n",
       "    .dataframe thead th {\n",
       "        text-align: right;\n",
       "    }\n",
       "</style>\n",
       "<table border=\"1\" class=\"dataframe\">\n",
       "  <thead>\n",
       "    <tr style=\"text-align: right;\">\n",
       "      <th></th>\n",
       "      <th>submission_timestamp</th>\n",
       "      <th>study_name</th>\n",
       "      <th>document_id</th>\n",
       "    </tr>\n",
       "  </thead>\n",
       "  <tbody>\n",
       "    <tr>\n",
       "      <th>0</th>\n",
       "      <td>2020-06-01 20:01:31.922322+00:00</td>\n",
       "      <td>pioneer-v2-example</td>\n",
       "      <td>55c93f79-e0a6-432a-bf25-5b9d08df214b</td>\n",
       "    </tr>\n",
       "    <tr>\n",
       "      <th>1</th>\n",
       "      <td>2020-06-16 11:19:50.158683+00:00</td>\n",
       "      <td>pioneer-v2-example</td>\n",
       "      <td>58133145-e671-446c-a55f-c6c5b4d51e7a</td>\n",
       "    </tr>\n",
       "    <tr>\n",
       "      <th>2</th>\n",
       "      <td>2020-06-01 20:01:31.918860+00:00</td>\n",
       "      <td>pioneer-v2-example</td>\n",
       "      <td>e45f8954-5387-4bdb-86ad-da4c28408bd5</td>\n",
       "    </tr>\n",
       "    <tr>\n",
       "      <th>3</th>\n",
       "      <td>2020-06-05 19:35:18.110024+00:00</td>\n",
       "      <td>pioneer-v2-example</td>\n",
       "      <td>bec24acf-f9b4-7e42-a529-a5ff568fb59c</td>\n",
       "    </tr>\n",
       "    <tr>\n",
       "      <th>4</th>\n",
       "      <td>2020-05-27 23:20:18.424399+00:00</td>\n",
       "      <td>pioneer-v2-example</td>\n",
       "      <td>d8a7fee8-db56-844b-a93e-eb886b1f169a</td>\n",
       "    </tr>\n",
       "    <tr>\n",
       "      <th>...</th>\n",
       "      <td>...</td>\n",
       "      <td>...</td>\n",
       "      <td>...</td>\n",
       "    </tr>\n",
       "    <tr>\n",
       "      <th>80</th>\n",
       "      <td>2020-06-01 19:33:09.087377+00:00</td>\n",
       "      <td>pioneer-v2-example</td>\n",
       "      <td>06812c34-1061-e04b-867b-58b872be800d</td>\n",
       "    </tr>\n",
       "    <tr>\n",
       "      <th>81</th>\n",
       "      <td>2020-05-27 23:20:18.102596+00:00</td>\n",
       "      <td>pioneer-v2-example</td>\n",
       "      <td>6d32301b-6ce6-e343-87e1-b86cb981ac20</td>\n",
       "    </tr>\n",
       "    <tr>\n",
       "      <th>82</th>\n",
       "      <td>2020-05-30 21:26:23.489637+00:00</td>\n",
       "      <td>pioneer-v2-example</td>\n",
       "      <td>5e67c507-9696-5449-9899-36f3c885ee6f</td>\n",
       "    </tr>\n",
       "    <tr>\n",
       "      <th>83</th>\n",
       "      <td>2020-05-28 06:12:29.741101+00:00</td>\n",
       "      <td>pioneer-v2-example</td>\n",
       "      <td>27de08c9-2d50-ea4f-bfe0-fefec533dd52</td>\n",
       "    </tr>\n",
       "    <tr>\n",
       "      <th>84</th>\n",
       "      <td>2020-06-17 16:39:55.684919+00:00</td>\n",
       "      <td>pioneer-v2-example</td>\n",
       "      <td>523f4f8d-75e4-174f-a461-bc8fffb98509</td>\n",
       "    </tr>\n",
       "  </tbody>\n",
       "</table>\n",
       "<p>85 rows × 3 columns</p>\n",
       "</div>"
      ],
      "text/plain": [
       "               submission_timestamp          study_name  \\\n",
       "0  2020-06-01 20:01:31.922322+00:00  pioneer-v2-example   \n",
       "1  2020-06-16 11:19:50.158683+00:00  pioneer-v2-example   \n",
       "2  2020-06-01 20:01:31.918860+00:00  pioneer-v2-example   \n",
       "3  2020-06-05 19:35:18.110024+00:00  pioneer-v2-example   \n",
       "4  2020-05-27 23:20:18.424399+00:00  pioneer-v2-example   \n",
       "..                              ...                 ...   \n",
       "80 2020-06-01 19:33:09.087377+00:00  pioneer-v2-example   \n",
       "81 2020-05-27 23:20:18.102596+00:00  pioneer-v2-example   \n",
       "82 2020-05-30 21:26:23.489637+00:00  pioneer-v2-example   \n",
       "83 2020-05-28 06:12:29.741101+00:00  pioneer-v2-example   \n",
       "84 2020-06-17 16:39:55.684919+00:00  pioneer-v2-example   \n",
       "\n",
       "                             document_id  \n",
       "0   55c93f79-e0a6-432a-bf25-5b9d08df214b  \n",
       "1   58133145-e671-446c-a55f-c6c5b4d51e7a  \n",
       "2   e45f8954-5387-4bdb-86ad-da4c28408bd5  \n",
       "3   bec24acf-f9b4-7e42-a529-a5ff568fb59c  \n",
       "4   d8a7fee8-db56-844b-a93e-eb886b1f169a  \n",
       "..                                   ...  \n",
       "80  06812c34-1061-e04b-867b-58b872be800d  \n",
       "81  6d32301b-6ce6-e343-87e1-b86cb981ac20  \n",
       "82  5e67c507-9696-5449-9899-36f3c885ee6f  \n",
       "83  27de08c9-2d50-ea4f-bfe0-fefec533dd52  \n",
       "84  523f4f8d-75e4-174f-a461-bc8fffb98509  \n",
       "\n",
       "[85 rows x 3 columns]"
      ]
     },
     "execution_count": 7,
     "metadata": {},
     "output_type": "execute_result"
    }
   ],
   "source": [
    "%%bigquery --destination_table analysis.my_table\n",
    "SELECT \n",
    "    submission_timestamp, \n",
    "    study_name, \n",
    "    document_id\n",
    "FROM\n",
    "    pioneer_debug.debug_v1\n",
    "WHERE\n",
    "    date(submission_timestamp) > date_sub(current_date, interval 30 day)"
   ]
  },
  {
   "cell_type": "markdown",
   "metadata": {},
   "source": [
    "We can see the table in our analysis dataset."
   ]
  },
  {
   "cell_type": "code",
   "execution_count": 8,
   "metadata": {},
   "outputs": [
    {
     "name": "stdout",
     "output_type": "stream",
     "text": [
      "  tableId    Type    Labels   Time Partitioning   Clustered Fields  \n",
      " ---------- ------- -------- ------------------- ------------------ \n",
      "  my_table   TABLE                                                  \n"
     ]
    }
   ],
   "source": [
    "! bq ls analysis"
   ]
  },
  {
   "cell_type": "code",
   "execution_count": 9,
   "metadata": {},
   "outputs": [
    {
     "name": "stdout",
     "output_type": "stream",
     "text": [
      "Table moz-fx-data-pion-nonprod-b3c9:analysis.my_table\n",
      "\n",
      "   Last modified                  Schema                 Total Rows   Total Bytes   Expiration   Time Partitioning   Clustered Fields   Labels  \n",
      " ----------------- ------------------------------------ ------------ ------------- ------------ ------------------- ------------------ -------- \n",
      "  24 Jun 21:05:23   |- submission_timestamp: timestamp   85           5610                                                                      \n",
      "                    |- study_name: string                                                                                                       \n",
      "                    |- document_id: string                                                                                                      \n",
      "\n"
     ]
    }
   ],
   "source": [
    "! bq show analysis.my_table"
   ]
  },
  {
   "cell_type": "markdown",
   "metadata": {},
   "source": [
    "The resulting table is available from any other notebook environment within the project. This is the primary mechanism for sharing intermediate results."
   ]
  },
  {
   "cell_type": "code",
   "execution_count": 10,
   "metadata": {},
   "outputs": [
    {
     "data": {
      "text/html": [
       "<div>\n",
       "<style scoped>\n",
       "    .dataframe tbody tr th:only-of-type {\n",
       "        vertical-align: middle;\n",
       "    }\n",
       "\n",
       "    .dataframe tbody tr th {\n",
       "        vertical-align: top;\n",
       "    }\n",
       "\n",
       "    .dataframe thead th {\n",
       "        text-align: right;\n",
       "    }\n",
       "</style>\n",
       "<table border=\"1\" class=\"dataframe\">\n",
       "  <thead>\n",
       "    <tr style=\"text-align: right;\">\n",
       "      <th></th>\n",
       "      <th>submission_timestamp</th>\n",
       "      <th>study_name</th>\n",
       "      <th>document_id</th>\n",
       "    </tr>\n",
       "  </thead>\n",
       "  <tbody>\n",
       "    <tr>\n",
       "      <th>0</th>\n",
       "      <td>2020-06-01 20:01:31.922322+00:00</td>\n",
       "      <td>pioneer-v2-example</td>\n",
       "      <td>55c93f79-e0a6-432a-bf25-5b9d08df214b</td>\n",
       "    </tr>\n",
       "    <tr>\n",
       "      <th>1</th>\n",
       "      <td>2020-06-16 11:19:50.158683+00:00</td>\n",
       "      <td>pioneer-v2-example</td>\n",
       "      <td>58133145-e671-446c-a55f-c6c5b4d51e7a</td>\n",
       "    </tr>\n",
       "    <tr>\n",
       "      <th>2</th>\n",
       "      <td>2020-06-01 20:01:31.918860+00:00</td>\n",
       "      <td>pioneer-v2-example</td>\n",
       "      <td>e45f8954-5387-4bdb-86ad-da4c28408bd5</td>\n",
       "    </tr>\n",
       "    <tr>\n",
       "      <th>3</th>\n",
       "      <td>2020-06-05 19:35:18.110024+00:00</td>\n",
       "      <td>pioneer-v2-example</td>\n",
       "      <td>bec24acf-f9b4-7e42-a529-a5ff568fb59c</td>\n",
       "    </tr>\n",
       "    <tr>\n",
       "      <th>4</th>\n",
       "      <td>2020-05-27 23:20:18.424399+00:00</td>\n",
       "      <td>pioneer-v2-example</td>\n",
       "      <td>d8a7fee8-db56-844b-a93e-eb886b1f169a</td>\n",
       "    </tr>\n",
       "  </tbody>\n",
       "</table>\n",
       "</div>"
      ],
      "text/plain": [
       "              submission_timestamp          study_name  \\\n",
       "0 2020-06-01 20:01:31.922322+00:00  pioneer-v2-example   \n",
       "1 2020-06-16 11:19:50.158683+00:00  pioneer-v2-example   \n",
       "2 2020-06-01 20:01:31.918860+00:00  pioneer-v2-example   \n",
       "3 2020-06-05 19:35:18.110024+00:00  pioneer-v2-example   \n",
       "4 2020-05-27 23:20:18.424399+00:00  pioneer-v2-example   \n",
       "\n",
       "                            document_id  \n",
       "0  55c93f79-e0a6-432a-bf25-5b9d08df214b  \n",
       "1  58133145-e671-446c-a55f-c6c5b4d51e7a  \n",
       "2  e45f8954-5387-4bdb-86ad-da4c28408bd5  \n",
       "3  bec24acf-f9b4-7e42-a529-a5ff568fb59c  \n",
       "4  d8a7fee8-db56-844b-a93e-eb886b1f169a  "
      ]
     },
     "execution_count": 10,
     "metadata": {},
     "output_type": "execute_result"
    }
   ],
   "source": [
    "%%bigquery\n",
    "SELECT * FROM analysis.my_table LIMIT 5"
   ]
  },
  {
   "cell_type": "markdown",
   "metadata": {},
   "source": [
    "## Working with Pandas DataFrames\n",
    "\n",
    "Queries from BigQuery can be serialized into a Pandas dataframe for further analysis, and written back into BigQuery. Lets generate a plot of distinct documents per day."
   ]
  },
  {
   "cell_type": "code",
   "execution_count": 11,
   "metadata": {},
   "outputs": [],
   "source": [
    "import matplotlib.pyplot as plt"
   ]
  },
  {
   "cell_type": "code",
   "execution_count": 12,
   "metadata": {},
   "outputs": [],
   "source": [
    "%%bigquery my_pandas_df\n",
    "SELECT\n",
    "    *\n",
    "FROM\n",
    "    analysis.my_table"
   ]
  },
  {
   "cell_type": "code",
   "execution_count": 13,
   "metadata": {},
   "outputs": [
    {
     "data": {
      "text/html": [
       "<div>\n",
       "<style scoped>\n",
       "    .dataframe tbody tr th:only-of-type {\n",
       "        vertical-align: middle;\n",
       "    }\n",
       "\n",
       "    .dataframe tbody tr th {\n",
       "        vertical-align: top;\n",
       "    }\n",
       "\n",
       "    .dataframe thead th {\n",
       "        text-align: right;\n",
       "    }\n",
       "</style>\n",
       "<table border=\"1\" class=\"dataframe\">\n",
       "  <thead>\n",
       "    <tr style=\"text-align: right;\">\n",
       "      <th></th>\n",
       "      <th>submission_timestamp</th>\n",
       "      <th>study_name</th>\n",
       "      <th>document_id</th>\n",
       "    </tr>\n",
       "  </thead>\n",
       "  <tbody>\n",
       "    <tr>\n",
       "      <th>0</th>\n",
       "      <td>2020-06-01 20:01:31.922322+00:00</td>\n",
       "      <td>pioneer-v2-example</td>\n",
       "      <td>55c93f79-e0a6-432a-bf25-5b9d08df214b</td>\n",
       "    </tr>\n",
       "    <tr>\n",
       "      <th>1</th>\n",
       "      <td>2020-06-16 11:19:50.158683+00:00</td>\n",
       "      <td>pioneer-v2-example</td>\n",
       "      <td>58133145-e671-446c-a55f-c6c5b4d51e7a</td>\n",
       "    </tr>\n",
       "    <tr>\n",
       "      <th>2</th>\n",
       "      <td>2020-06-01 20:01:31.918860+00:00</td>\n",
       "      <td>pioneer-v2-example</td>\n",
       "      <td>e45f8954-5387-4bdb-86ad-da4c28408bd5</td>\n",
       "    </tr>\n",
       "    <tr>\n",
       "      <th>3</th>\n",
       "      <td>2020-06-05 19:35:18.110024+00:00</td>\n",
       "      <td>pioneer-v2-example</td>\n",
       "      <td>bec24acf-f9b4-7e42-a529-a5ff568fb59c</td>\n",
       "    </tr>\n",
       "    <tr>\n",
       "      <th>4</th>\n",
       "      <td>2020-05-27 23:20:18.424399+00:00</td>\n",
       "      <td>pioneer-v2-example</td>\n",
       "      <td>d8a7fee8-db56-844b-a93e-eb886b1f169a</td>\n",
       "    </tr>\n",
       "  </tbody>\n",
       "</table>\n",
       "</div>"
      ],
      "text/plain": [
       "              submission_timestamp          study_name  \\\n",
       "0 2020-06-01 20:01:31.922322+00:00  pioneer-v2-example   \n",
       "1 2020-06-16 11:19:50.158683+00:00  pioneer-v2-example   \n",
       "2 2020-06-01 20:01:31.918860+00:00  pioneer-v2-example   \n",
       "3 2020-06-05 19:35:18.110024+00:00  pioneer-v2-example   \n",
       "4 2020-05-27 23:20:18.424399+00:00  pioneer-v2-example   \n",
       "\n",
       "                            document_id  \n",
       "0  55c93f79-e0a6-432a-bf25-5b9d08df214b  \n",
       "1  58133145-e671-446c-a55f-c6c5b4d51e7a  \n",
       "2  e45f8954-5387-4bdb-86ad-da4c28408bd5  \n",
       "3  bec24acf-f9b4-7e42-a529-a5ff568fb59c  \n",
       "4  d8a7fee8-db56-844b-a93e-eb886b1f169a  "
      ]
     },
     "execution_count": 13,
     "metadata": {},
     "output_type": "execute_result"
    }
   ],
   "source": [
    "my_pandas_df.head()"
   ]
  },
  {
   "cell_type": "code",
   "execution_count": 14,
   "metadata": {},
   "outputs": [
    {
     "data": {
      "image/png": "[encoded data removed]",
      "text/plain": [
       "<Figure size 432x288 with 1 Axes>"
      ]
     },
     "metadata": {
      "needs_background": "light"
     },
     "output_type": "display_data"
    }
   ],
   "source": [
    "my_pandas_df[\"submission_date\"] = my_pandas_df.submission_timestamp.dt.floor(\"d\")\n",
    "my_pandas_df.groupby(\"submission_date\").document_id.nunique().plot()\n",
    "plt.show()"
   ]
  },
  {
   "cell_type": "markdown",
   "metadata": {},
   "source": [
    "We can accomplish the same task by pushing most of the work onto BigQuery. This is preferable because it reads less rows into memory and requires less work from the notebook instance."
   ]
  },
  {
   "cell_type": "code",
   "execution_count": 15,
   "metadata": {},
   "outputs": [],
   "source": [
    "%%bigquery my_aggregated_df\n",
    "SELECT\n",
    "    TIMESTAMP_TRUNC(submission_timestamp, day) as submission_date,\n",
    "    COUNT(DISTINCT document_id) as n_documents\n",
    "FROM\n",
    "    analysis.my_table\n",
    "GROUP BY\n",
    "    submission_date\n",
    "ORDER BY\n",
    "    submission_date"
   ]
  },
  {
   "cell_type": "code",
   "execution_count": 16,
   "metadata": {},
   "outputs": [
    {
     "data": {
      "image/png": "[encoded data removed]",
      "text/plain": [
       "<Figure size 432x288 with 1 Axes>"
      ]
     },
     "metadata": {
      "needs_background": "light"
     },
     "output_type": "display_data"
    }
   ],
   "source": [
    "my_aggregated_df.plot(\"submission_date\", \"n_documents\")\n",
    "plt.show()"
   ]
  },
  {
   "cell_type": "markdown",
   "metadata": {},
   "source": [
    "We can now save the results of our Pandas dataframe into our analysis environment. \n",
    "\n",
    "If the `pandas_gbq` package is installed, like in the Kaggle image, then Pandas can write directly into a table. See [the Pandas documentation](https://pandas.pydata.org/pandas-docs/stable/reference/api/pandas.DataFrame.to_gbq.html) for reference.\n",
    "\n",
    "```python\n",
    "my_aggregated_df.to_gbq(\"analysis.my_aggregated_table\")\n",
    "```\n",
    "\n",
    "Instead, we'll use the [Google Cloud SDK to write into a table](https://cloud.google.com/bigquery/docs/datalab-migration#google-cloud-bigquery_7). Refer to the [`google-cloud-bigquery` api docs](https://googleapis.dev/python/bigquery/latest/index.html) for more details."
   ]
  },
  {
   "cell_type": "code",
   "execution_count": 17,
   "metadata": {},
   "outputs": [
    {
     "data": {
      "text/plain": [
       "<google.cloud.bigquery.job.LoadJob at 0x7f8449ff3750>"
      ]
     },
     "execution_count": 17,
     "metadata": {},
     "output_type": "execute_result"
    }
   ],
   "source": [
    "from google.cloud import bigquery\n",
    "\n",
    "client = bigquery.Client()\n",
    "job = client.load_table_from_dataframe(my_aggregated_df, \"analysis.my_aggregated_table\")\n",
    "job.result()"
   ]
  },
  {
   "cell_type": "code",
   "execution_count": 18,
   "metadata": {},
   "outputs": [
    {
     "name": "stdout",
     "output_type": "stream",
     "text": [
      "        tableId         Type    Labels   Time Partitioning   Clustered Fields  \n",
      " --------------------- ------- -------- ------------------- ------------------ \n",
      "  my_aggregated_table   TABLE                                                  \n",
      "  my_table              TABLE                                                  \n"
     ]
    }
   ],
   "source": [
    "! bq ls analysis"
   ]
  },
  {
   "cell_type": "code",
   "execution_count": 19,
   "metadata": {},
   "outputs": [
    {
     "data": {
      "text/html": [
       "<div>\n",
       "<style scoped>\n",
       "    .dataframe tbody tr th:only-of-type {\n",
       "        vertical-align: middle;\n",
       "    }\n",
       "\n",
       "    .dataframe tbody tr th {\n",
       "        vertical-align: top;\n",
       "    }\n",
       "\n",
       "    .dataframe thead th {\n",
       "        text-align: right;\n",
       "    }\n",
       "</style>\n",
       "<table border=\"1\" class=\"dataframe\">\n",
       "  <thead>\n",
       "    <tr style=\"text-align: right;\">\n",
       "      <th></th>\n",
       "      <th>submission_date</th>\n",
       "      <th>n_documents</th>\n",
       "    </tr>\n",
       "  </thead>\n",
       "  <tbody>\n",
       "    <tr>\n",
       "      <th>0</th>\n",
       "      <td>2020-05-29 00:00:00+00:00</td>\n",
       "      <td>1</td>\n",
       "    </tr>\n",
       "    <tr>\n",
       "      <th>1</th>\n",
       "      <td>2020-06-02 00:00:00+00:00</td>\n",
       "      <td>2</td>\n",
       "    </tr>\n",
       "    <tr>\n",
       "      <th>2</th>\n",
       "      <td>2020-06-17 00:00:00+00:00</td>\n",
       "      <td>2</td>\n",
       "    </tr>\n",
       "    <tr>\n",
       "      <th>3</th>\n",
       "      <td>2020-05-26 00:00:00+00:00</td>\n",
       "      <td>3</td>\n",
       "    </tr>\n",
       "    <tr>\n",
       "      <th>4</th>\n",
       "      <td>2020-06-03 00:00:00+00:00</td>\n",
       "      <td>3</td>\n",
       "    </tr>\n",
       "    <tr>\n",
       "      <th>5</th>\n",
       "      <td>2020-06-09 00:00:00+00:00</td>\n",
       "      <td>3</td>\n",
       "    </tr>\n",
       "    <tr>\n",
       "      <th>6</th>\n",
       "      <td>2020-06-16 00:00:00+00:00</td>\n",
       "      <td>5</td>\n",
       "    </tr>\n",
       "    <tr>\n",
       "      <th>7</th>\n",
       "      <td>2020-05-28 00:00:00+00:00</td>\n",
       "      <td>6</td>\n",
       "    </tr>\n",
       "    <tr>\n",
       "      <th>8</th>\n",
       "      <td>2020-05-30 00:00:00+00:00</td>\n",
       "      <td>6</td>\n",
       "    </tr>\n",
       "    <tr>\n",
       "      <th>9</th>\n",
       "      <td>2020-05-31 00:00:00+00:00</td>\n",
       "      <td>6</td>\n",
       "    </tr>\n",
       "    <tr>\n",
       "      <th>10</th>\n",
       "      <td>2020-06-05 00:00:00+00:00</td>\n",
       "      <td>6</td>\n",
       "    </tr>\n",
       "    <tr>\n",
       "      <th>11</th>\n",
       "      <td>2020-06-04 00:00:00+00:00</td>\n",
       "      <td>7</td>\n",
       "    </tr>\n",
       "    <tr>\n",
       "      <th>12</th>\n",
       "      <td>2020-05-27 00:00:00+00:00</td>\n",
       "      <td>10</td>\n",
       "    </tr>\n",
       "    <tr>\n",
       "      <th>13</th>\n",
       "      <td>2020-06-01 00:00:00+00:00</td>\n",
       "      <td>25</td>\n",
       "    </tr>\n",
       "  </tbody>\n",
       "</table>\n",
       "</div>"
      ],
      "text/plain": [
       "             submission_date  n_documents\n",
       "0  2020-05-29 00:00:00+00:00            1\n",
       "1  2020-06-02 00:00:00+00:00            2\n",
       "2  2020-06-17 00:00:00+00:00            2\n",
       "3  2020-05-26 00:00:00+00:00            3\n",
       "4  2020-06-03 00:00:00+00:00            3\n",
       "5  2020-06-09 00:00:00+00:00            3\n",
       "6  2020-06-16 00:00:00+00:00            5\n",
       "7  2020-05-28 00:00:00+00:00            6\n",
       "8  2020-05-30 00:00:00+00:00            6\n",
       "9  2020-05-31 00:00:00+00:00            6\n",
       "10 2020-06-05 00:00:00+00:00            6\n",
       "11 2020-06-04 00:00:00+00:00            7\n",
       "12 2020-05-27 00:00:00+00:00           10\n",
       "13 2020-06-01 00:00:00+00:00           25"
      ]
     },
     "execution_count": 19,
     "metadata": {},
     "output_type": "execute_result"
    }
   ],
   "source": [
    "%%bigquery\n",
    "SELECT * FROM analysis.my_aggregated_table"
   ]
  },
  {
   "cell_type": "markdown",
   "metadata": {},
   "source": [
    "## Appendix"
   ]
  },
  {
   "cell_type": "code",
   "execution_count": 20,
   "metadata": {},
   "outputs": [],
   "source": [
    "# cleanup\n",
    "! bq rm -f analysis.my_table\n",
    "! bq rm -f analysis.my_aggregated_table"
   ]
  }
 ],
 "metadata": {
  "environment": {
   "name": "common-cpu.m49",
   "type": "gcloud",
   "uri": "gcr.io/deeplearning-platform-release/base-cpu:m49"
  },
  "kernelspec": {
   "display_name": "Python 3",
   "language": "python",
   "name": "python3"
  },
  "language_info": {
   "codemirror_mode": {
    "name": "ipython",
    "version": 3
   },
   "file_extension": ".py",
   "mimetype": "text/x-python",
   "name": "python",
   "nbconvert_exporter": "python",
   "pygments_lexer": "ipython3",
   "version": "3.7.6"
  }
 },
 "nbformat": 4,
 "nbformat_minor": 4
}
