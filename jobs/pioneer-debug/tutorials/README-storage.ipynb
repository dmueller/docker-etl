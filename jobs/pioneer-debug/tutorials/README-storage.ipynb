{
 "cells": [
  {
   "cell_type": "markdown",
   "metadata": {},
   "source": [
    "# Using Cloud Storage\n",
    "\n",
    "Cloud storage can be used to persist data across notebook instances. By default, each project is provisioned a google cloud storage bucket that\n",
    "can be used across various services. In this notebook, we will persist artifacts from the notebook instance into cloud storage for future use. We will\n",
    "also create a Javascript library that can be used within BigQuery."
   ]
  },
  {
   "cell_type": "markdown",
   "metadata": {},
   "source": [
    "## Configuration\n",
    "\n",
    "The bucket is found at `gs://${PROJECT}`. The project can be found using the `gcloud` command. We inject these values into the environment so we can move between Python and Bash."
   ]
  },
  {
   "cell_type": "code",
   "execution_count": 1,
   "metadata": {},
   "outputs": [
    {
     "name": "stdout",
     "output_type": "stream",
     "text": [
      "moz-fx-data-pion-nonprod-b3c9\n",
      "notebook-amiyaguchi@moz-fx-data-pion-nonprod-b3c9.iam.gserviceaccount.com\n"
     ]
    }
   ],
   "source": [
    "! gcloud config get-value project\n",
    "! gcloud config get-value account"
   ]
  },
  {
   "cell_type": "code",
   "execution_count": 2,
   "metadata": {},
   "outputs": [
    {
     "name": "stdout",
     "output_type": "stream",
     "text": [
      "moz-fx-data-pion-nonprod-b3c9\n",
      "notebook-amiyaguchi\n"
     ]
    }
   ],
   "source": [
    "import os\n",
    "import subprocess\n",
    "\n",
    "def run(command: str) -> str:\n",
    "    return subprocess.run(command.split(), stdout=subprocess.PIPE).stdout.strip().decode()\n",
    "\n",
    "os.environ[\"PROJECT\"] = run(\"gcloud config get-value project\")\n",
    "os.environ[\"USER\"] = run(\"gcloud config get-value account\").split(\"@\")[0]\n",
    "\n",
    "! echo $PROJECT\n",
    "! echo $USER"
   ]
  },
  {
   "cell_type": "markdown",
   "metadata": {},
   "source": [
    "## Using `gsutil rsync` for artifact storage\n",
    "\n",
    "The [`gsutil rsync` command](https://cloud.google.com/storage/docs/gsutil/commands/rsync) is used to sync the contents of two directories. We will synchronize the tutoral notebooks for storage into the project bucket.\n",
    "\n",
    "The tutorials are installed by default into the instance."
   ]
  },
  {
   "cell_type": "code",
   "execution_count": 3,
   "metadata": {},
   "outputs": [
    {
     "name": "stdout",
     "output_type": "stream",
     "text": [
      "tutorials/storage\n",
      "├── Cloud Storage client library.ipynb\n",
      "├── resources\n",
      "│   ├── downloaded-us-states.txt\n",
      "│   └── us-states.txt\n",
      "└── Storage command-line tool.ipynb\n",
      "\n",
      "1 directory, 4 files\n"
     ]
    }
   ],
   "source": [
    "! tree tutorials/storage"
   ]
  },
  {
   "cell_type": "markdown",
   "metadata": {},
   "source": [
    "Now we recursively sync these into cloud storage."
   ]
  },
  {
   "cell_type": "code",
   "execution_count": 4,
   "metadata": {},
   "outputs": [
    {
     "name": "stdout",
     "output_type": "stream",
     "text": [
      "\n",
      "WARNING: gsutil rsync uses hashes when modification time is not available at\n",
      "both the source and destination. Your crcmod installation isn't using the\n",
      "module's C extension, so checksumming will run very slowly. If this is your\n",
      "first rsync since updating gsutil, this rsync can take significantly longer than\n",
      "usual. For help installing the extension, please see \"gsutil help crcmod\".\n",
      "\n",
      "Building synchronization state...\n",
      "Starting synchronization...\n",
      "Copying file://tutorials/storage/Cloud Storage client library.ipynb [Content-Type=application/octet-stream]...\n",
      "Copying file://tutorials/storage/Storage command-line tool.ipynb [Content-Type=application/octet-stream]...\n",
      "Copying file://tutorials/storage/resources/downloaded-us-states.txt [Content-Type=text/plain]...\n",
      "Copying file://tutorials/storage/resources/us-states.txt [Content-Type=text/plain]...\n",
      "/ [4 files][ 17.3 KiB/ 17.3 KiB]                                                \n",
      "Operation completed over 4 objects/17.3 KiB.                                     \n"
     ]
    }
   ],
   "source": [
    "! gsutil rsync -r tutorials/storage/ gs://$PROJECT/$USER/test/artifacts"
   ]
  },
  {
   "cell_type": "markdown",
   "metadata": {},
   "source": [
    "Now they are persisted outside of this notebook instance. The notebook instance can be deleted without losing these artifacts."
   ]
  },
  {
   "cell_type": "code",
   "execution_count": null,
   "metadata": {},
   "outputs": [
    {
     "name": "stdout",
     "output_type": "stream",
     "text": [
      "gs://moz-fx-data-pion-nonprod-b3c9/notebook-amiyaguchi/:\n",
      "\n",
      "gs://moz-fx-data-pion-nonprod-b3c9/notebook-amiyaguchi/test/:\n",
      "\n",
      "gs://moz-fx-data-pion-nonprod-b3c9/notebook-amiyaguchi/test/artifacts/:\n",
      "gs://moz-fx-data-pion-nonprod-b3c9/notebook-amiyaguchi/test/artifacts/Cloud Storage client library.ipynb\n",
      "gs://moz-fx-data-pion-nonprod-b3c9/notebook-amiyaguchi/test/artifacts/Storage command-line tool.ipynb\n",
      "\n",
      "gs://moz-fx-data-pion-nonprod-b3c9/notebook-amiyaguchi/test/artifacts/resources/:\n",
      "gs://moz-fx-data-pion-nonprod-b3c9/notebook-amiyaguchi/test/artifacts/resources/downloaded-us-states.txt\n",
      "gs://moz-fx-data-pion-nonprod-b3c9/notebook-amiyaguchi/test/artifacts/resources/us-states.txt\n"
     ]
    }
   ],
   "source": [
    "! gsutil ls -r gs://$PROJECT/$USER"
   ]
  },
  {
   "cell_type": "markdown",
   "metadata": {},
   "source": [
    "## BigQuery UDFs\n",
    "\n",
    "Cloud storage can be used to store [Javascript libraries that are called by BigQuery](https://cloud.google.com/bigquery/docs/reference/standard-sql/user-defined-functions#including-javascript-libraries). These libraries can be compiled wasm code for performing moderately complex tasks. First we define a function `addOne` into a library on the local disk."
   ]
  },
  {
   "cell_type": "code",
   "execution_count": null,
   "metadata": {},
   "outputs": [],
   "source": [
    "from pathlib import Path\n",
    "\n",
    "resources = Path(\".\") / \"resources\"\n",
    "resources.mkdir(exist_ok=True, parents=True)\n",
    "\n",
    "(resources / \"addOne.js\").write_text(\"\"\"\n",
    "    (function() { addOne = function(x) { return x + 1}; }())\n",
    "\"\"\".strip())\n",
    "\n",
    "! cat resources/addOne.js"
   ]
  },
  {
   "cell_type": "markdown",
   "metadata": {},
   "source": [
    "Now we copy this file into the storage bucket."
   ]
  },
  {
   "cell_type": "code",
   "execution_count": null,
   "metadata": {},
   "outputs": [],
   "source": [
    "! gsutil rsync -r resources/ gs://$PROJECT/$USER/test/resources/"
   ]
  },
  {
   "cell_type": "markdown",
   "metadata": {},
   "source": [
    "We can use this function in BigQuery by defining the library as an option within a user defined function."
   ]
  },
  {
   "cell_type": "code",
   "execution_count": 10,
   "metadata": {},
   "outputs": [
    {
     "name": "stdout",
     "output_type": "stream",
     "text": [
      "4.140000000000001\n"
     ]
    }
   ],
   "source": [
    "from google.cloud import bigquery\n",
    "\n",
    "client = bigquery.Client()\n",
    "query = f\"\"\"\n",
    "CREATE TEMP FUNCTION addOne(a FLOAT64)\n",
    "  RETURNS STRING\n",
    "  LANGUAGE js\n",
    "  OPTIONS (\n",
    "    library=[\"gs://{os.environ['PROJECT']}/{os.environ['USER']}/test/resources/addOne.js\"]\n",
    "  )\n",
    "  AS\n",
    "'''\n",
    "    // Use the function defined in the library function\n",
    "    return addOne(a);\n",
    "''';\n",
    "\n",
    "SELECT addOne(3.14);\n",
    "\"\"\"\n",
    "\n",
    "for row in client.query(query):\n",
    "    print(row.f0_)"
   ]
  },
  {
   "cell_type": "markdown",
   "metadata": {},
   "source": [
    "## Cleanup"
   ]
  },
  {
   "cell_type": "code",
   "execution_count": 11,
   "metadata": {},
   "outputs": [
    {
     "name": "stdout",
     "output_type": "stream",
     "text": [
      "Removing gs://moz-fx-data-pion-nonprod-b3c9/notebook-amiyaguchi/test/artifacts/Cloud Storage client library.ipynb#1596067736046955...\n",
      "Removing gs://moz-fx-data-pion-nonprod-b3c9/notebook-amiyaguchi/test/artifacts/Storage command-line tool.ipynb#1596067736124013...\n",
      "Removing gs://moz-fx-data-pion-nonprod-b3c9/notebook-amiyaguchi/test/artifacts/resources/downloaded-us-states.txt#1596067736224044...\n",
      "Removing gs://moz-fx-data-pion-nonprod-b3c9/notebook-amiyaguchi/test/artifacts/resources/us-states.txt#1596067736300602...\n",
      "/ [4 objects]                                                                   \n",
      "==> NOTE: You are performing a sequence of gsutil operations that may\n",
      "run significantly faster if you instead use gsutil -m rm ... Please\n",
      "see the -m section under \"gsutil help options\" for further information\n",
      "about when gsutil -m can be advantageous.\n",
      "\n",
      "Removing gs://moz-fx-data-pion-nonprod-b3c9/notebook-amiyaguchi/test/resources/addOne.js#1596067740924127...\n",
      "/ [5 objects]                                                                   \n",
      "Operation completed over 5 objects.                                              \n"
     ]
    }
   ],
   "source": [
    "! gsutil rm -r gs://$PROJECT/$USER/test"
   ]
  }
 ],
 "metadata": {
  "environment": {
   "name": "common-cpu.m54",
   "type": "gcloud",
   "uri": "gcr.io/deeplearning-platform-release/base-cpu:m54"
  },
  "kernelspec": {
   "display_name": "Python 3",
   "language": "python",
   "name": "python3"
  },
  "language_info": {
   "codemirror_mode": {
    "name": "ipython",
    "version": 3
   },
   "file_extension": ".py",
   "mimetype": "text/x-python",
   "name": "python",
   "nbconvert_exporter": "python",
   "pygments_lexer": "ipython3",
   "version": "3.7.8"
  }
 },
 "nbformat": 4,
 "nbformat_minor": 4
}
